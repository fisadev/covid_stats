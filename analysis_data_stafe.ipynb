{
 "cells": [
  {
   "cell_type": "markdown",
   "id": "secret-strength",
   "metadata": {},
   "source": [
    "# Datos\n",
    "\n",
    "http://www.santafe.gob.ar/ms/covid19/datosabiertos/"
   ]
  },
  {
   "cell_type": "code",
   "execution_count": null,
   "id": "hired-identifier",
   "metadata": {},
   "outputs": [],
   "source": [
    "from datetime import datetime\n",
    "\n",
    "import pandas as pd\n",
    "\n",
    "from plotly import express as px\n",
    "\n",
    "pd.set_option('display.max_rows', 1000)"
   ]
  },
  {
   "cell_type": "code",
   "execution_count": null,
   "id": "aggressive-dealer",
   "metadata": {},
   "outputs": [],
   "source": [
    "casos = pd.read_csv(\"https://metabase.santafe.gob.ar/api/public/card/c5e1ebaf-77ce-402b-97ae-06498501b342/query/csv\")\n",
    "casos.tail()"
   ]
  },
  {
   "cell_type": "code",
   "execution_count": null,
   "id": "renewable-antarctica",
   "metadata": {
    "scrolled": false
   },
   "outputs": [],
   "source": [
    "casos.rename(columns={col: col.lower().replace(\" \", \"_\") for col in casos.columns}, inplace=True)\n",
    "casos.rename(columns={f: f + \"_accum\" for f in (\"confirmados\", \"descartados\", \"en_estudio\", \"notificaciones\")},\n",
    "             inplace=True)\n",
    "casos.localidad = casos.localidad.str.capitalize()\n",
    "casos.fecha = pd.to_datetime(casos.fecha)\n",
    "casos.sort_values(\"fecha\", inplace=True)\n",
    "\n",
    "# agregar delta y medias moviles de casos por localidad\n",
    "for localidad in casos.localidad.unique():\n",
    "    index_localidad = casos.localidad == localidad\n",
    "    casos_localidad = casos[index_localidad]\n",
    "    \n",
    "    confirmados_localidad = casos_localidad[\"confirmados_accum\"] - casos_localidad[\"confirmados_accum\"].shift(1)\n",
    "    media_3_localidad = confirmados_localidad.rolling(3).mean()\n",
    "    media_7_localidad = confirmados_localidad.rolling(7).mean()\n",
    "    \n",
    "    casos.loc[index_localidad, \"confirmados\"] = confirmados_localidad\n",
    "    casos.loc[index_localidad, \"confirmados_media_3\"] = media_3_localidad\n",
    "    casos.loc[index_localidad, \"confirmados_media_7\"] = media_7_localidad\n",
    "\n",
    "casos.tail()"
   ]
  },
  {
   "cell_type": "code",
   "execution_count": null,
   "id": "finite-vacuum",
   "metadata": {},
   "outputs": [],
   "source": [
    "casos.fecha.max()"
   ]
  },
  {
   "cell_type": "code",
   "execution_count": null,
   "id": "sealed-student",
   "metadata": {},
   "outputs": [],
   "source": [
    "def graficar(casos, campo=\"confirmados_media_7\", por_localidad=False, region=None):   \n",
    "    if region is None:\n",
    "        region = ', '.join(casos.localidad.unique())\n",
    "    \n",
    "    aclaracion = \"\"\n",
    "    if \"media\" in campo:\n",
    "        aclaracion = f\" (media móvil de {campo.split('_')[-1]} días)\"\n",
    "    \n",
    "    if por_localidad:\n",
    "        casos = casos.groupby([\"fecha\", \"localidad\"]).sum().reset_index().set_index(\"fecha\")\n",
    "        color = \"localidad\"\n",
    "    else:\n",
    "        casos = casos.groupby(\"fecha\").sum()\n",
    "        color = None\n",
    "   \n",
    "    labels = {\n",
    "        campo: \"\",\n",
    "        \"fecha\": \"\",\n",
    "    }\n",
    "\n",
    "    fig = px.line(\n",
    "        casos,\n",
    "        y=campo, \n",
    "        title=f\"Casos confirmados en {region}{aclaracion}\",\n",
    "        labels=labels,\n",
    "        color=color,\n",
    "    )\n",
    "\n",
    "    fig.add_vline(\n",
    "        x=datetime(2021, 2, 17), \n",
    "        line_width=2, \n",
    "        line_dash=\"dot\", \n",
    "        line_color=\"green\",\n",
    "    )\n",
    "\n",
    "    fig.add_vline(\n",
    "        x=datetime(2021, 4, 4), \n",
    "        line_width=2, \n",
    "        line_dash=\"dot\", \n",
    "        line_color=\"red\",\n",
    "    )\n",
    "    \n",
    "    return fig"
   ]
  },
  {
   "cell_type": "code",
   "execution_count": null,
   "id": "colored-drilling",
   "metadata": {},
   "outputs": [],
   "source": [
    "graficar(casos[casos.localidad == \"Rafaela\"], campo=\"confirmados_media_7\")"
   ]
  },
  {
   "cell_type": "code",
   "execution_count": null,
   "id": "mysterious-index",
   "metadata": {},
   "outputs": [],
   "source": [
    "graficar(casos[casos.localidad.isin((\"Rafaela\", \"Venado tuerto\"))], campo=\"confirmados_media_7\", por_localidad=True)"
   ]
  },
  {
   "cell_type": "code",
   "execution_count": null,
   "id": "christian-universe",
   "metadata": {},
   "outputs": [],
   "source": [
    "graficar(casos, por_localidad=False, region=\"Provincia de Santa Fe\")"
   ]
  },
  {
   "cell_type": "code",
   "execution_count": null,
   "id": "german-austria",
   "metadata": {},
   "outputs": [],
   "source": [
    "casos[casos.localidad == \"Rafaela\"].tail(15)"
   ]
  },
  {
   "cell_type": "code",
   "execution_count": null,
   "id": "light-survival",
   "metadata": {},
   "outputs": [],
   "source": []
  }
 ],
 "metadata": {
  "kernelspec": {
   "display_name": "Python 3",
   "language": "python",
   "name": "python3"
  },
  "language_info": {
   "codemirror_mode": {
    "name": "ipython",
    "version": 3
   },
   "file_extension": ".py",
   "mimetype": "text/x-python",
   "name": "python",
   "nbconvert_exporter": "python",
   "pygments_lexer": "ipython3",
   "version": "3.8.5"
  }
 },
 "nbformat": 4,
 "nbformat_minor": 5
}
